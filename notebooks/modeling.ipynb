{
 "cells": [
  {
   "cell_type": "code",
   "execution_count": 1,
   "metadata": {},
   "outputs": [],
   "source": [
    "import os\n",
    "import pandas as pd\n",
    "import numpy as np\n",
    "\n",
    "import matplotlib.pyplot as plt\n",
    "import seaborn as sns\n",
    "\n",
    "sns.set_style('whitegrid')\n",
    "sns.set_palette('icefire')\n",
    "\n",
    "from sklearn.preprocessing import StandardScaler, MinMaxScaler\n",
    "from sklearn.model_selection import train_test_split\n",
    "\n",
    "from sklearn.linear_model import LinearRegression, Lasso, Ridge\n",
    "from sklearn.metrics import r2_score\n",
    "from sklearn.model_selection import GridSearchCV\n",
    "\n",
    "import warnings\n",
    "warnings.filterwarnings('ignore')"
   ]
  },
  {
   "cell_type": "markdown",
   "metadata": {},
   "source": [
    "### Read data"
   ]
  },
  {
   "cell_type": "code",
   "execution_count": 2,
   "metadata": {},
   "outputs": [
    {
     "data": {
      "text/plain": [
       "(1460, 81)"
      ]
     },
     "execution_count": 2,
     "metadata": {},
     "output_type": "execute_result"
    }
   ],
   "source": [
    "df = pd.read_csv('../data/train.csv', na_values=\"NAN\")\n",
    "df.shape"
   ]
  },
  {
   "cell_type": "markdown",
   "metadata": {},
   "source": [
    "Clean-up / handling missing values"
   ]
  },
  {
   "cell_type": "code",
   "execution_count": 3,
   "metadata": {},
   "outputs": [],
   "source": [
    "## Following are the list of features, where the missing value have a meaning of either not-applicable or not-avaliable. Here I am replace with 'None' for encoding later.\n",
    "null_has_meaning = ['Alley', 'BsmtQual', 'BsmtCond', 'BsmtExposure', 'BsmtFinType1', \n",
    "                    'BsmtFinType2', 'FireplaceQu', 'GarageType', 'GarageFinish', \n",
    "                    'GarageQual', 'GarageCond', 'PoolQC', 'Fence', 'MiscFeature']\n",
    "for f in null_has_meaning:\n",
    "    df[f].fillna('None', inplace = True)"
   ]
  },
  {
   "cell_type": "code",
   "execution_count": 4,
   "metadata": {},
   "outputs": [
    {
     "data": {
      "text/html": [
       "<div>\n",
       "<style scoped>\n",
       "    .dataframe tbody tr th:only-of-type {\n",
       "        vertical-align: middle;\n",
       "    }\n",
       "\n",
       "    .dataframe tbody tr th {\n",
       "        vertical-align: top;\n",
       "    }\n",
       "\n",
       "    .dataframe thead th {\n",
       "        text-align: right;\n",
       "    }\n",
       "</style>\n",
       "<table border=\"1\" class=\"dataframe\">\n",
       "  <thead>\n",
       "    <tr style=\"text-align: right;\">\n",
       "      <th></th>\n",
       "      <th>Total</th>\n",
       "      <th>Percent</th>\n",
       "    </tr>\n",
       "  </thead>\n",
       "  <tbody>\n",
       "    <tr>\n",
       "      <th>LotFrontage</th>\n",
       "      <td>259</td>\n",
       "      <td>0.177397</td>\n",
       "    </tr>\n",
       "    <tr>\n",
       "      <th>GarageYrBlt</th>\n",
       "      <td>81</td>\n",
       "      <td>0.055479</td>\n",
       "    </tr>\n",
       "    <tr>\n",
       "      <th>MasVnrType</th>\n",
       "      <td>8</td>\n",
       "      <td>0.005479</td>\n",
       "    </tr>\n",
       "    <tr>\n",
       "      <th>MasVnrArea</th>\n",
       "      <td>8</td>\n",
       "      <td>0.005479</td>\n",
       "    </tr>\n",
       "    <tr>\n",
       "      <th>Electrical</th>\n",
       "      <td>1</td>\n",
       "      <td>0.000685</td>\n",
       "    </tr>\n",
       "    <tr>\n",
       "      <th>KitchenQual</th>\n",
       "      <td>0</td>\n",
       "      <td>0.000000</td>\n",
       "    </tr>\n",
       "  </tbody>\n",
       "</table>\n",
       "</div>"
      ],
      "text/plain": [
       "             Total   Percent\n",
       "LotFrontage    259  0.177397\n",
       "GarageYrBlt     81  0.055479\n",
       "MasVnrType       8  0.005479\n",
       "MasVnrArea       8  0.005479\n",
       "Electrical       1  0.000685\n",
       "KitchenQual      0  0.000000"
      ]
     },
     "execution_count": 4,
     "metadata": {},
     "output_type": "execute_result"
    }
   ],
   "source": [
    "#missing data\n",
    "total = df.isnull().sum().sort_values(ascending=False)\n",
    "percent = (df.isnull().sum()/df.isnull().count()).sort_values(ascending=False)\n",
    "missing_data = pd.concat([total, percent], axis=1, keys=['Total', 'Percent'])\n",
    "missing_data.head(6)"
   ]
  },
  {
   "cell_type": "code",
   "execution_count": 5,
   "metadata": {},
   "outputs": [
    {
     "name": "stdout",
     "output_type": "stream",
     "text": [
      "<class 'pandas.core.frame.DataFrame'>\n",
      "RangeIndex: 1460 entries, 0 to 1459\n",
      "Data columns (total 5 columns):\n",
      " #   Column       Non-Null Count  Dtype  \n",
      "---  ------       --------------  -----  \n",
      " 0   LotFrontage  1201 non-null   float64\n",
      " 1   MasVnrType   1452 non-null   object \n",
      " 2   MasVnrArea   1452 non-null   float64\n",
      " 3   Electrical   1459 non-null   object \n",
      " 4   GarageYrBlt  1379 non-null   float64\n",
      "dtypes: float64(3), object(2)\n",
      "memory usage: 57.2+ KB\n"
     ]
    }
   ],
   "source": [
    "## Observe features with missing values\n",
    "cols_with_na = [f for f in df.columns if sum(~df[f].isna()) != len(df)]\n",
    "df[cols_with_na].info()"
   ]
  },
  {
   "cell_type": "markdown",
   "metadata": {},
   "source": [
    "1. Drop LotFrontage because of nearly 18% missing values\n",
    "2. Reset impute the missing values as below:\n",
    "    - Missing values in the string features are replaced with mode\n",
    "    - Missing values in the numerical features are replaced with median"
   ]
  },
  {
   "cell_type": "code",
   "execution_count": 6,
   "metadata": {},
   "outputs": [],
   "source": [
    "df.drop(columns = ['LotFrontage'], inplace = True)"
   ]
  },
  {
   "cell_type": "code",
   "execution_count": 7,
   "metadata": {},
   "outputs": [],
   "source": [
    "for f in [c for c in cols_with_na if c in df.columns]:\n",
    "    if df[f].dtypes == object:\n",
    "        df[f].fillna(df[f].dropna().mode().values[0], inplace = True)\n",
    "    else:\n",
    "        df[f].fillna(df[f].dropna().median(), inplace = True)"
   ]
  },
  {
   "cell_type": "code",
   "execution_count": 8,
   "metadata": {},
   "outputs": [
    {
     "data": {
      "text/plain": [
       "[]"
      ]
     },
     "execution_count": 8,
     "metadata": {},
     "output_type": "execute_result"
    }
   ],
   "source": [
    "cols_with_na = [f for f in df.columns if sum(~df[f].isna()) != len(df)]\n",
    "cols_with_na"
   ]
  },
  {
   "cell_type": "markdown",
   "metadata": {},
   "source": [
    "We have no more missing values..."
   ]
  },
  {
   "cell_type": "markdown",
   "metadata": {},
   "source": [
    "### Organize Features"
   ]
  },
  {
   "cell_type": "code",
   "execution_count": 9,
   "metadata": {},
   "outputs": [],
   "source": [
    "# drop Id column because it is not useful\n",
    "df.drop(columns = ['Id'], inplace = True)"
   ]
  },
  {
   "cell_type": "code",
   "execution_count": 10,
   "metadata": {},
   "outputs": [
    {
     "name": "stdout",
     "output_type": "stream",
     "text": [
      "Total columns in the dataset: 79\n",
      "Total # of numerical features: 35\n",
      "Total # of numerical features: 43\n"
     ]
    }
   ],
   "source": [
    "# target\n",
    "target = 'SalePrice'            # target is a numerical feature\n",
    "\n",
    "# numerical features\n",
    "num_features = [f for f in df.columns if (df[f].dtype in ['int64', float]) & (f != target)]\n",
    "\n",
    "# catagorical features\n",
    "cat_features = [f for f in df.columns if (df[f].dtype == object) & (f != target)]\n",
    "\n",
    "print(f'Total columns in the dataset: {df.shape[1]}')\n",
    "print(f'Total # of numerical features: {len(num_features)}')\n",
    "print(f'Total # of numerical features: {len(cat_features)}')"
   ]
  },
  {
   "cell_type": "code",
   "execution_count": 11,
   "metadata": {},
   "outputs": [
    {
     "name": "stdout",
     "output_type": "stream",
     "text": [
      "NUMERICAL FEATURES\n",
      "MSSubClass, LotArea, OverallQual, OverallCond, YearBuilt, YearRemodAdd, MasVnrArea, BsmtFinSF1, BsmtFinSF2, BsmtUnfSF, TotalBsmtSF, 1stFlrSF, 2ndFlrSF, LowQualFinSF, GrLivArea, BsmtFullBath, BsmtHalfBath, FullBath, HalfBath, BedroomAbvGr, KitchenAbvGr, TotRmsAbvGrd, Fireplaces, GarageYrBlt, GarageCars, GarageArea, WoodDeckSF, OpenPorchSF, EnclosedPorch, 3SsnPorch, ScreenPorch, PoolArea, MiscVal, MoSold, YrSold\n",
      "\n",
      "CATEGORICAL FEATURES\n",
      "MSZoning, Street, Alley, LotShape, LandContour, Utilities, LotConfig, LandSlope, Neighborhood, Condition1, Condition2, BldgType, HouseStyle, RoofStyle, RoofMatl, Exterior1st, Exterior2nd, MasVnrType, ExterQual, ExterCond, Foundation, BsmtQual, BsmtCond, BsmtExposure, BsmtFinType1, BsmtFinType2, Heating, HeatingQC, CentralAir, Electrical, KitchenQual, Functional, FireplaceQu, GarageType, GarageFinish, GarageQual, GarageCond, PavedDrive, PoolQC, Fence, MiscFeature, SaleType, SaleCondition\n"
     ]
    }
   ],
   "source": [
    "print('NUMERICAL FEATURES')\n",
    "print(', '.join(num_features))\n",
    "print()\n",
    "print('CATEGORICAL FEATURES')\n",
    "print(', '.join(cat_features))"
   ]
  },
  {
   "cell_type": "markdown",
   "metadata": {},
   "source": [
    "### Data Preparation\n",
    "- Encode categorical features\n",
    "- Transform and scale numerical features"
   ]
  },
  {
   "cell_type": "code",
   "execution_count": 12,
   "metadata": {},
   "outputs": [
    {
     "data": {
      "image/png": "[encoded data removed]",
      "text/plain": [
       "<Figure size 1400x400 with 2 Axes>"
      ]
     },
     "metadata": {},
     "output_type": "display_data"
    }
   ],
   "source": [
    "### Target\n",
    "fig, axes = plt.subplots(1, 2, figsize = (14, 4))\n",
    "sns.histplot(data = df, x = target, kde = True, ax = axes[0])\n",
    "axes[0].set(title = target)\n",
    "\n",
    "# log-transformation\n",
    "df[f'log-{target}'] = df[target].apply(np.log)\n",
    "sns.histplot(data = df, x = f'log-{target}', kde = True, ax = axes[1])\n",
    "axes[1].set(title = f'log-{target}')\n",
    "\n",
    "plt.tight_layout()\n",
    "plt.show()\n"
   ]
  },
  {
   "cell_type": "markdown",
   "metadata": {},
   "source": [
    "Original sale price is a right-skewed distribution, where only few houses with > 500,000. With log-transformation, the distribution is near-normal."
   ]
  },
  {
   "cell_type": "code",
   "execution_count": 13,
   "metadata": {},
   "outputs": [],
   "source": [
    "### Categorical features\n",
    "# - simple numerical encoding is performed and the order of the labels is not considered particularly\n",
    "for f in cat_features:           # loop over categorical features\n",
    "    feature_set = sorted(list(set(df[f])))     # identify unique values in the feature\n",
    "    for idx, j in enumerate(feature_set, start = 0):\n",
    "        df.loc[df[f] == j, f] = idx     # replace string with the index of unique list"
   ]
  },
  {
   "cell_type": "code",
   "execution_count": 14,
   "metadata": {},
   "outputs": [
    {
     "data": {
      "text/html": [
       "<div>\n",
       "<style scoped>\n",
       "    .dataframe tbody tr th:only-of-type {\n",
       "        vertical-align: middle;\n",
       "    }\n",
       "\n",
       "    .dataframe tbody tr th {\n",
       "        vertical-align: top;\n",
       "    }\n",
       "\n",
       "    .dataframe thead th {\n",
       "        text-align: right;\n",
       "    }\n",
       "</style>\n",
       "<table border=\"1\" class=\"dataframe\">\n",
       "  <thead>\n",
       "    <tr style=\"text-align: right;\">\n",
       "      <th></th>\n",
       "      <th>MSSubClass</th>\n",
       "      <th>MSZoning</th>\n",
       "      <th>LotArea</th>\n",
       "      <th>Street</th>\n",
       "      <th>Alley</th>\n",
       "      <th>LotShape</th>\n",
       "      <th>LandContour</th>\n",
       "      <th>Utilities</th>\n",
       "      <th>LotConfig</th>\n",
       "      <th>LandSlope</th>\n",
       "      <th>...</th>\n",
       "      <th>PoolQC</th>\n",
       "      <th>Fence</th>\n",
       "      <th>MiscFeature</th>\n",
       "      <th>MiscVal</th>\n",
       "      <th>MoSold</th>\n",
       "      <th>YrSold</th>\n",
       "      <th>SaleType</th>\n",
       "      <th>SaleCondition</th>\n",
       "      <th>SalePrice</th>\n",
       "      <th>log-SalePrice</th>\n",
       "    </tr>\n",
       "  </thead>\n",
       "  <tbody>\n",
       "    <tr>\n",
       "      <th>0</th>\n",
       "      <td>60</td>\n",
       "      <td>3</td>\n",
       "      <td>8450</td>\n",
       "      <td>1</td>\n",
       "      <td>1</td>\n",
       "      <td>3</td>\n",
       "      <td>3</td>\n",
       "      <td>0</td>\n",
       "      <td>4</td>\n",
       "      <td>0</td>\n",
       "      <td>...</td>\n",
       "      <td>3</td>\n",
       "      <td>4</td>\n",
       "      <td>1</td>\n",
       "      <td>0</td>\n",
       "      <td>2</td>\n",
       "      <td>2008</td>\n",
       "      <td>8</td>\n",
       "      <td>4</td>\n",
       "      <td>208500</td>\n",
       "      <td>12.247694</td>\n",
       "    </tr>\n",
       "    <tr>\n",
       "      <th>1</th>\n",
       "      <td>20</td>\n",
       "      <td>3</td>\n",
       "      <td>9600</td>\n",
       "      <td>1</td>\n",
       "      <td>1</td>\n",
       "      <td>3</td>\n",
       "      <td>3</td>\n",
       "      <td>0</td>\n",
       "      <td>2</td>\n",
       "      <td>0</td>\n",
       "      <td>...</td>\n",
       "      <td>3</td>\n",
       "      <td>4</td>\n",
       "      <td>1</td>\n",
       "      <td>0</td>\n",
       "      <td>5</td>\n",
       "      <td>2007</td>\n",
       "      <td>8</td>\n",
       "      <td>4</td>\n",
       "      <td>181500</td>\n",
       "      <td>12.109011</td>\n",
       "    </tr>\n",
       "    <tr>\n",
       "      <th>2</th>\n",
       "      <td>60</td>\n",
       "      <td>3</td>\n",
       "      <td>11250</td>\n",
       "      <td>1</td>\n",
       "      <td>1</td>\n",
       "      <td>0</td>\n",
       "      <td>3</td>\n",
       "      <td>0</td>\n",
       "      <td>4</td>\n",
       "      <td>0</td>\n",
       "      <td>...</td>\n",
       "      <td>3</td>\n",
       "      <td>4</td>\n",
       "      <td>1</td>\n",
       "      <td>0</td>\n",
       "      <td>9</td>\n",
       "      <td>2008</td>\n",
       "      <td>8</td>\n",
       "      <td>4</td>\n",
       "      <td>223500</td>\n",
       "      <td>12.317167</td>\n",
       "    </tr>\n",
       "    <tr>\n",
       "      <th>3</th>\n",
       "      <td>70</td>\n",
       "      <td>3</td>\n",
       "      <td>9550</td>\n",
       "      <td>1</td>\n",
       "      <td>1</td>\n",
       "      <td>0</td>\n",
       "      <td>3</td>\n",
       "      <td>0</td>\n",
       "      <td>0</td>\n",
       "      <td>0</td>\n",
       "      <td>...</td>\n",
       "      <td>3</td>\n",
       "      <td>4</td>\n",
       "      <td>1</td>\n",
       "      <td>0</td>\n",
       "      <td>2</td>\n",
       "      <td>2006</td>\n",
       "      <td>8</td>\n",
       "      <td>0</td>\n",
       "      <td>140000</td>\n",
       "      <td>11.849398</td>\n",
       "    </tr>\n",
       "    <tr>\n",
       "      <th>4</th>\n",
       "      <td>60</td>\n",
       "      <td>3</td>\n",
       "      <td>14260</td>\n",
       "      <td>1</td>\n",
       "      <td>1</td>\n",
       "      <td>0</td>\n",
       "      <td>3</td>\n",
       "      <td>0</td>\n",
       "      <td>2</td>\n",
       "      <td>0</td>\n",
       "      <td>...</td>\n",
       "      <td>3</td>\n",
       "      <td>4</td>\n",
       "      <td>1</td>\n",
       "      <td>0</td>\n",
       "      <td>12</td>\n",
       "      <td>2008</td>\n",
       "      <td>8</td>\n",
       "      <td>4</td>\n",
       "      <td>250000</td>\n",
       "      <td>12.429216</td>\n",
       "    </tr>\n",
       "  </tbody>\n",
       "</table>\n",
       "<p>5 rows × 80 columns</p>\n",
       "</div>"
      ],
      "text/plain": [
       "   MSSubClass MSZoning  LotArea Street Alley LotShape LandContour Utilities  \\\n",
       "0          60        3     8450      1     1        3           3         0   \n",
       "1          20        3     9600      1     1        3           3         0   \n",
       "2          60        3    11250      1     1        0           3         0   \n",
       "3          70        3     9550      1     1        0           3         0   \n",
       "4          60        3    14260      1     1        0           3         0   \n",
       "\n",
       "  LotConfig LandSlope  ... PoolQC Fence MiscFeature MiscVal MoSold  YrSold  \\\n",
       "0         4         0  ...      3     4           1       0      2    2008   \n",
       "1         2         0  ...      3     4           1       0      5    2007   \n",
       "2         4         0  ...      3     4           1       0      9    2008   \n",
       "3         0         0  ...      3     4           1       0      2    2006   \n",
       "4         2         0  ...      3     4           1       0     12    2008   \n",
       "\n",
       "   SaleType  SaleCondition  SalePrice log-SalePrice  \n",
       "0         8              4     208500     12.247694  \n",
       "1         8              4     181500     12.109011  \n",
       "2         8              4     223500     12.317167  \n",
       "3         8              0     140000     11.849398  \n",
       "4         8              4     250000     12.429216  \n",
       "\n",
       "[5 rows x 80 columns]"
      ]
     },
     "execution_count": 14,
     "metadata": {},
     "output_type": "execute_result"
    }
   ],
   "source": [
    "df.head()"
   ]
  },
  {
   "cell_type": "markdown",
   "metadata": {},
   "source": [
    "### Model building"
   ]
  },
  {
   "cell_type": "code",
   "execution_count": 15,
   "metadata": {},
   "outputs": [
    {
     "data": {
      "text/plain": [
       "Index(['MSSubClass', 'MSZoning', 'LotArea', 'Street', 'Alley', 'LotShape',\n",
       "       'LandContour', 'Utilities', 'LotConfig', 'LandSlope', 'Neighborhood',\n",
       "       'Condition1', 'Condition2', 'BldgType', 'HouseStyle', 'OverallQual',\n",
       "       'OverallCond', 'YearBuilt', 'YearRemodAdd', 'RoofStyle', 'RoofMatl',\n",
       "       'Exterior1st', 'Exterior2nd', 'MasVnrType', 'MasVnrArea', 'ExterQual',\n",
       "       'ExterCond', 'Foundation', 'BsmtQual', 'BsmtCond', 'BsmtExposure',\n",
       "       'BsmtFinType1', 'BsmtFinSF1', 'BsmtFinType2', 'BsmtFinSF2', 'BsmtUnfSF',\n",
       "       'TotalBsmtSF', 'Heating', 'HeatingQC', 'CentralAir', 'Electrical',\n",
       "       '1stFlrSF', '2ndFlrSF', 'LowQualFinSF', 'GrLivArea', 'BsmtFullBath',\n",
       "       'BsmtHalfBath', 'FullBath', 'HalfBath', 'BedroomAbvGr', 'KitchenAbvGr',\n",
       "       'KitchenQual', 'TotRmsAbvGrd', 'Functional', 'Fireplaces',\n",
       "       'FireplaceQu', 'GarageType', 'GarageYrBlt', 'GarageFinish',\n",
       "       'GarageCars', 'GarageArea', 'GarageQual', 'GarageCond', 'PavedDrive',\n",
       "       'WoodDeckSF', 'OpenPorchSF', 'EnclosedPorch', '3SsnPorch',\n",
       "       'ScreenPorch', 'PoolArea', 'PoolQC', 'Fence', 'MiscFeature', 'MiscVal',\n",
       "       'MoSold', 'YrSold', 'SaleType', 'SaleCondition'],\n",
       "      dtype='object')"
      ]
     },
     "execution_count": 15,
     "metadata": {},
     "output_type": "execute_result"
    }
   ],
   "source": [
    "log_target = f'log-{target}'\n",
    "X = df.drop(columns = [target, log_target])\n",
    "y = df[log_target]\n",
    "\n",
    "X_features = X.columns\n",
    "X_features"
   ]
  },
  {
   "cell_type": "code",
   "execution_count": 16,
   "metadata": {},
   "outputs": [],
   "source": [
    "# since we considered all the categorial features are ordinal, we can scale both the numerical and categorical features together\n",
    "features_scaler = StandardScaler()\n",
    "X = features_scaler.fit_transform(X)\n",
    "\n",
    "# Scaler target\n",
    "target_scaler = StandardScaler()\n",
    "y = target_scaler.fit_transform(y.values.reshape(-1, 1))"
   ]
  },
  {
   "cell_type": "markdown",
   "metadata": {},
   "source": [
    "Split dataset into train and test"
   ]
  },
  {
   "cell_type": "code",
   "execution_count": 17,
   "metadata": {},
   "outputs": [
    {
     "data": {
      "text/plain": [
       "(1021, 439)"
      ]
     },
     "execution_count": 17,
     "metadata": {},
     "output_type": "execute_result"
    }
   ],
   "source": [
    "X_train, X_test, y_train, y_test = train_test_split(X, y, train_size = 0.7, random_state = 3407)\n",
    "len(y_train), len(y_test)"
   ]
  },
  {
   "cell_type": "markdown",
   "metadata": {},
   "source": [
    "Baseline model with linear regression (no feature selection was performed)"
   ]
  },
  {
   "cell_type": "code",
   "execution_count": 18,
   "metadata": {},
   "outputs": [
    {
     "name": "stdout",
     "output_type": "stream",
     "text": [
      "Train R-square: 0.8770704883840961\n",
      "Test R-square: -0.0022831050226712613\n"
     ]
    }
   ],
   "source": [
    "lr = LinearRegression()\n",
    "lr.fit(X_train, y_train)\n",
    "print(f'Train R-square: {r2_score(lr.predict(X_train), y_train)}')\n",
    "print(f'Test R-square: {r2_score(lr.predict(X_test), y_test)}')"
   ]
  },
  {
   "cell_type": "markdown",
   "metadata": {},
   "source": [
    "With no regularization, the model performance was decent but can be improved."
   ]
  },
  {
   "cell_type": "markdown",
   "metadata": {},
   "source": [
    "LASSO Regression\n",
    "- parameter: Alpha\n",
    "    - is 0              : Unregularized model\n",
    "    - is greater than 0 : More regularization and leads to underfitting\n",
    "    - is lesser than 0  : Less regularization and leads to overfitting\n"
   ]
  },
  {
   "cell_type": "code",
   "execution_count": 19,
   "metadata": {},
   "outputs": [],
   "source": [
    "results = []\n",
    "alphas = np.linspace(1e-3, 0.1, num = 200)\n",
    "for a in alphas:\n",
    "    lr = Lasso(alpha=a)     # no regulaization\n",
    "    lr.fit(X_train,y_train)\n",
    "    train_r2 = r2_score(lr.predict(X_train), y_train)\n",
    "    test_r2 = r2_score(lr.predict(X_test), y_test)\n",
    "    results.append((a, train_r2, test_r2))"
   ]
  },
  {
   "cell_type": "code",
   "execution_count": 20,
   "metadata": {},
   "outputs": [
    {
     "data": {
      "image/png": "[encoded data removed]",
      "text/plain": [
       "<Figure size 640x480 with 1 Axes>"
      ]
     },
     "metadata": {},
     "output_type": "display_data"
    }
   ],
   "source": [
    "results_df = pd.DataFrame(results, columns = ['alpha', 'train_r2', 'test_r2'])\n",
    "sns.scatterplot(data = results_df, x = 'alpha', y = 'train_r2', marker = 'o', color = 'blue')\n",
    "sns.scatterplot(data = results_df, x = 'alpha', y = 'test_r2', marker = 'o', color = 'red')\n",
    "max_test_r2 = max(results_df['test_r2'])\n",
    "alpha_at_max = results_df.loc[results_df['test_r2'] == max_test_r2, 'alpha'].values[0]\n",
    "plt.axvline(x = alpha_at_max, color = 'black', ls = '--')\n",
    "plt.title(f'Max test_r2 ({max_test_r2:.4f}) when alpha is {alpha_at_max:.4f}')\n",
    "plt.legend(['train score', 'test score'], loc='upper right')\n",
    "plt.show()"
   ]
  },
  {
   "cell_type": "markdown",
   "metadata": {},
   "source": [
    "Better can be done with gridsearch CV"
   ]
  },
  {
   "cell_type": "code",
   "execution_count": 21,
   "metadata": {},
   "outputs": [
    {
     "name": "stdout",
     "output_type": "stream",
     "text": [
      "Fitting 5 folds for each of 200 candidates, totalling 1000 fits\n"
     ]
    },
    {
     "data": {
      "text/html": [
       "<style>#sk-container-id-1 {color: black;background-color: white;}#sk-container-id-1 pre{padding: 0;}#sk-container-id-1 div.sk-toggleable {background-color: white;}#sk-container-id-1 label.sk-toggleable__label {cursor: pointer;display: block;width: 100%;margin-bottom: 0;padding: 0.3em;box-sizing: border-box;text-align: center;}#sk-container-id-1 label.sk-toggleable__label-arrow:before {content: \"▸\";float: left;margin-right: 0.25em;color: #696969;}#sk-container-id-1 label.sk-toggleable__label-arrow:hover:before {color: black;}#sk-container-id-1 div.sk-estimator:hover label.sk-toggleable__label-arrow:before {color: black;}#sk-container-id-1 div.sk-toggleable__content {max-height: 0;max-width: 0;overflow: hidden;text-align: left;background-color: #f0f8ff;}#sk-container-id-1 div.sk-toggleable__content pre {margin: 0.2em;color: black;border-radius: 0.25em;background-color: #f0f8ff;}#sk-container-id-1 input.sk-toggleable__control:checked~div.sk-toggleable__content {max-height: 200px;max-width: 100%;overflow: auto;}#sk-container-id-1 input.sk-toggleable__control:checked~label.sk-toggleable__label-arrow:before {content: \"▾\";}#sk-container-id-1 div.sk-estimator input.sk-toggleable__control:checked~label.sk-toggleable__label {background-color: #d4ebff;}#sk-container-id-1 div.sk-label input.sk-toggleable__control:checked~label.sk-toggleable__label {background-color: #d4ebff;}#sk-container-id-1 input.sk-hidden--visually {border: 0;clip: rect(1px 1px 1px 1px);clip: rect(1px, 1px, 1px, 1px);height: 1px;margin: -1px;overflow: hidden;padding: 0;position: absolute;width: 1px;}#sk-container-id-1 div.sk-estimator {font-family: monospace;background-color: #f0f8ff;border: 1px dotted black;border-radius: 0.25em;box-sizing: border-box;margin-bottom: 0.5em;}#sk-container-id-1 div.sk-estimator:hover {background-color: #d4ebff;}#sk-container-id-1 div.sk-parallel-item::after {content: \"\";width: 100%;border-bottom: 1px solid gray;flex-grow: 1;}#sk-container-id-1 div.sk-label:hover label.sk-toggleable__label {background-color: #d4ebff;}#sk-container-id-1 div.sk-serial::before {content: \"\";position: absolute;border-left: 1px solid gray;box-sizing: border-box;top: 0;bottom: 0;left: 50%;z-index: 0;}#sk-container-id-1 div.sk-serial {display: flex;flex-direction: column;align-items: center;background-color: white;padding-right: 0.2em;padding-left: 0.2em;position: relative;}#sk-container-id-1 div.sk-item {position: relative;z-index: 1;}#sk-container-id-1 div.sk-parallel {display: flex;align-items: stretch;justify-content: center;background-color: white;position: relative;}#sk-container-id-1 div.sk-item::before, #sk-container-id-1 div.sk-parallel-item::before {content: \"\";position: absolute;border-left: 1px solid gray;box-sizing: border-box;top: 0;bottom: 0;left: 50%;z-index: -1;}#sk-container-id-1 div.sk-parallel-item {display: flex;flex-direction: column;z-index: 1;position: relative;background-color: white;}#sk-container-id-1 div.sk-parallel-item:first-child::after {align-self: flex-end;width: 50%;}#sk-container-id-1 div.sk-parallel-item:last-child::after {align-self: flex-start;width: 50%;}#sk-container-id-1 div.sk-parallel-item:only-child::after {width: 0;}#sk-container-id-1 div.sk-dashed-wrapped {border: 1px dashed gray;margin: 0 0.4em 0.5em 0.4em;box-sizing: border-box;padding-bottom: 0.4em;background-color: white;}#sk-container-id-1 div.sk-label label {font-family: monospace;font-weight: bold;display: inline-block;line-height: 1.2em;}#sk-container-id-1 div.sk-label-container {text-align: center;}#sk-container-id-1 div.sk-container {/* jupyter's `normalize.less` sets `[hidden] { display: none; }` but bootstrap.min.css set `[hidden] { display: none !important; }` so we also need the `!important` here to be able to override the default hidden behavior on the sphinx rendered scikit-learn.org. See: https://github.com/scikit-learn/scikit-learn/issues/21755 */display: inline-block !important;position: relative;}#sk-container-id-1 div.sk-text-repr-fallback {display: none;}</style><div id=\"sk-container-id-1\" class=\"sk-top-container\"><div class=\"sk-text-repr-fallback\"><pre>GridSearchCV(cv=5, estimator=Lasso(),\n",
       "             param_grid={&#x27;alpha&#x27;: array([0.001     , 0.00124623, 0.00149246, 0.00173869, 0.00198492,\n",
       "       0.00223116, 0.00247739, 0.00272362, 0.00296985, 0.00321608,\n",
       "       0.00346231, 0.00370854, 0.00395477, 0.00420101, 0.00444724,\n",
       "       0.00469347, 0.0049397 , 0.00518593, 0.00543216, 0.00567839,\n",
       "       0.00592462, 0.00617085, 0.00641709, 0.00666332, 0.00690955,\n",
       "       0.00715578, 0.00740...\n",
       "       0.0428593 , 0.04310553, 0.04335176, 0.04359799, 0.04384422,\n",
       "       0.04409045, 0.04433668, 0.04458291, 0.04482915, 0.04507538,\n",
       "       0.04532161, 0.04556784, 0.04581407, 0.0460603 , 0.04630653,\n",
       "       0.04655276, 0.04679899, 0.04704523, 0.04729146, 0.04753769,\n",
       "       0.04778392, 0.04803015, 0.04827638, 0.04852261, 0.04876884,\n",
       "       0.04901508, 0.04926131, 0.04950754, 0.04975377, 0.05      ])},\n",
       "             return_train_score=True, scoring=&#x27;r2&#x27;, verbose=1)</pre><b>In a Jupyter environment, please rerun this cell to show the HTML representation or trust the notebook. <br />On GitHub, the HTML representation is unable to render, please try loading this page with nbviewer.org.</b></div><div class=\"sk-container\" hidden><div class=\"sk-item sk-dashed-wrapped\"><div class=\"sk-label-container\"><div class=\"sk-label sk-toggleable\"><input class=\"sk-toggleable__control sk-hidden--visually\" id=\"sk-estimator-id-1\" type=\"checkbox\" ><label for=\"sk-estimator-id-1\" class=\"sk-toggleable__label sk-toggleable__label-arrow\">GridSearchCV</label><div class=\"sk-toggleable__content\"><pre>GridSearchCV(cv=5, estimator=Lasso(),\n",
       "             param_grid={&#x27;alpha&#x27;: array([0.001     , 0.00124623, 0.00149246, 0.00173869, 0.00198492,\n",
       "       0.00223116, 0.00247739, 0.00272362, 0.00296985, 0.00321608,\n",
       "       0.00346231, 0.00370854, 0.00395477, 0.00420101, 0.00444724,\n",
       "       0.00469347, 0.0049397 , 0.00518593, 0.00543216, 0.00567839,\n",
       "       0.00592462, 0.00617085, 0.00641709, 0.00666332, 0.00690955,\n",
       "       0.00715578, 0.00740...\n",
       "       0.0428593 , 0.04310553, 0.04335176, 0.04359799, 0.04384422,\n",
       "       0.04409045, 0.04433668, 0.04458291, 0.04482915, 0.04507538,\n",
       "       0.04532161, 0.04556784, 0.04581407, 0.0460603 , 0.04630653,\n",
       "       0.04655276, 0.04679899, 0.04704523, 0.04729146, 0.04753769,\n",
       "       0.04778392, 0.04803015, 0.04827638, 0.04852261, 0.04876884,\n",
       "       0.04901508, 0.04926131, 0.04950754, 0.04975377, 0.05      ])},\n",
       "             return_train_score=True, scoring=&#x27;r2&#x27;, verbose=1)</pre></div></div></div><div class=\"sk-parallel\"><div class=\"sk-parallel-item\"><div class=\"sk-item\"><div class=\"sk-label-container\"><div class=\"sk-label sk-toggleable\"><input class=\"sk-toggleable__control sk-hidden--visually\" id=\"sk-estimator-id-2\" type=\"checkbox\" ><label for=\"sk-estimator-id-2\" class=\"sk-toggleable__label sk-toggleable__label-arrow\">estimator: Lasso</label><div class=\"sk-toggleable__content\"><pre>Lasso()</pre></div></div></div><div class=\"sk-serial\"><div class=\"sk-item\"><div class=\"sk-estimator sk-toggleable\"><input class=\"sk-toggleable__control sk-hidden--visually\" id=\"sk-estimator-id-3\" type=\"checkbox\" ><label for=\"sk-estimator-id-3\" class=\"sk-toggleable__label sk-toggleable__label-arrow\">Lasso</label><div class=\"sk-toggleable__content\"><pre>Lasso()</pre></div></div></div></div></div></div></div></div></div></div>"
      ],
      "text/plain": [
       "GridSearchCV(cv=5, estimator=Lasso(),\n",
       "             param_grid={'alpha': array([0.001     , 0.00124623, 0.00149246, 0.00173869, 0.00198492,\n",
       "       0.00223116, 0.00247739, 0.00272362, 0.00296985, 0.00321608,\n",
       "       0.00346231, 0.00370854, 0.00395477, 0.00420101, 0.00444724,\n",
       "       0.00469347, 0.0049397 , 0.00518593, 0.00543216, 0.00567839,\n",
       "       0.00592462, 0.00617085, 0.00641709, 0.00666332, 0.00690955,\n",
       "       0.00715578, 0.00740...\n",
       "       0.0428593 , 0.04310553, 0.04335176, 0.04359799, 0.04384422,\n",
       "       0.04409045, 0.04433668, 0.04458291, 0.04482915, 0.04507538,\n",
       "       0.04532161, 0.04556784, 0.04581407, 0.0460603 , 0.04630653,\n",
       "       0.04655276, 0.04679899, 0.04704523, 0.04729146, 0.04753769,\n",
       "       0.04778392, 0.04803015, 0.04827638, 0.04852261, 0.04876884,\n",
       "       0.04901508, 0.04926131, 0.04950754, 0.04975377, 0.05      ])},\n",
       "             return_train_score=True, scoring='r2', verbose=1)"
      ]
     },
     "execution_count": 21,
     "metadata": {},
     "output_type": "execute_result"
    }
   ],
   "source": [
    "model = Lasso()\n",
    "folds = 5       # 5-fold cross-validation\n",
    "params = {'alpha': np.linspace(1e-3, 0.05, num = 200)}\n",
    "model_cv = GridSearchCV(estimator=model,\n",
    "                        param_grid = params,\n",
    "                        scoring = 'r2',\n",
    "                        cv = folds,\n",
    "                        return_train_score = True,\n",
    "                        verbose = 1)\n",
    "model_cv.fit(X_train, y_train)"
   ]
  },
  {
   "cell_type": "code",
   "execution_count": 22,
   "metadata": {},
   "outputs": [
    {
     "data": {
      "image/png": "[encoded data removed]",
      "text/plain": [
       "<Figure size 640x480 with 1 Axes>"
      ]
     },
     "metadata": {},
     "output_type": "display_data"
    }
   ],
   "source": [
    "results_df = pd.DataFrame(model_cv.cv_results_)\n",
    "\n",
    "# plotting mean test and train scoes with alpha\n",
    "results_df['param_alpha'] = results_df['param_alpha'].astype('float32')\n",
    "\n",
    "# plot\n",
    "sns.scatterplot(data = results_df, x = 'param_alpha', y = 'mean_train_score',\n",
    "                marker = 'o', color = 'blue')\n",
    "sns.scatterplot(data = results_df, x = 'param_alpha', y = 'mean_test_score', \n",
    "                marker = 'o', color = 'red')\n",
    "max_test_r2 = max(results_df['mean_test_score'])\n",
    "alpha_at_max = results_df.loc[results_df['mean_test_score'] == max_test_r2, 'param_alpha'].values[0]\n",
    "plt.axvline(x = alpha_at_max, color = 'black', ls = '--')\n",
    "plt.xlabel('alpha')\n",
    "plt.ylabel('R-square')\n",
    "plt.title(f'Max test_r2 ({max_test_r2:.4f}) when alpha is {alpha_at_max:.4f}')\n",
    "plt.legend(['train score', 'test score'], loc='upper right')\n",
    "plt.show()"
   ]
  },
  {
   "cell_type": "markdown",
   "metadata": {},
   "source": [
    "Train model on best alpha (0.0197) for feature selection"
   ]
  },
  {
   "cell_type": "code",
   "execution_count": 23,
   "metadata": {},
   "outputs": [
    {
     "name": "stdout",
     "output_type": "stream",
     "text": [
      "Train R-square: 0.853466\n",
      "Test R-square: 0.829580\n",
      "Features selected after removing those with 0 coefficient: 46 \n",
      "\n",
      "Top 6 features on coefficient:\n"
     ]
    },
    {
     "data": {
      "text/html": [
       "<div>\n",
       "<style scoped>\n",
       "    .dataframe tbody tr th:only-of-type {\n",
       "        vertical-align: middle;\n",
       "    }\n",
       "\n",
       "    .dataframe tbody tr th {\n",
       "        vertical-align: top;\n",
       "    }\n",
       "\n",
       "    .dataframe thead th {\n",
       "        text-align: right;\n",
       "    }\n",
       "</style>\n",
       "<table border=\"1\" class=\"dataframe\">\n",
       "  <thead>\n",
       "    <tr style=\"text-align: right;\">\n",
       "      <th></th>\n",
       "      <th>feature</th>\n",
       "      <th>coef</th>\n",
       "    </tr>\n",
       "  </thead>\n",
       "  <tbody>\n",
       "    <tr>\n",
       "      <th>15</th>\n",
       "      <td>OverallQual</td>\n",
       "      <td>0.283027</td>\n",
       "    </tr>\n",
       "    <tr>\n",
       "      <th>44</th>\n",
       "      <td>GrLivArea</td>\n",
       "      <td>0.211370</td>\n",
       "    </tr>\n",
       "    <tr>\n",
       "      <th>59</th>\n",
       "      <td>GarageCars</td>\n",
       "      <td>0.136912</td>\n",
       "    </tr>\n",
       "    <tr>\n",
       "      <th>16</th>\n",
       "      <td>OverallCond</td>\n",
       "      <td>0.090527</td>\n",
       "    </tr>\n",
       "    <tr>\n",
       "      <th>17</th>\n",
       "      <td>YearBuilt</td>\n",
       "      <td>0.077608</td>\n",
       "    </tr>\n",
       "    <tr>\n",
       "      <th>45</th>\n",
       "      <td>BsmtFullBath</td>\n",
       "      <td>0.073688</td>\n",
       "    </tr>\n",
       "  </tbody>\n",
       "</table>\n",
       "</div>"
      ],
      "text/plain": [
       "         feature      coef\n",
       "15   OverallQual  0.283027\n",
       "44     GrLivArea  0.211370\n",
       "59    GarageCars  0.136912\n",
       "16   OverallCond  0.090527\n",
       "17     YearBuilt  0.077608\n",
       "45  BsmtFullBath  0.073688"
      ]
     },
     "execution_count": 23,
     "metadata": {},
     "output_type": "execute_result"
    }
   ],
   "source": [
    "model = Lasso(alpha = alpha_at_max)\n",
    "model.fit(X_train, y_train)\n",
    "print(f'Train R-square: {r2_score(model.predict(X_train), y_train):.6f}')\n",
    "print(f'Test R-square: {r2_score(model.predict(X_test), y_test):.6f}')\n",
    "\n",
    "# Features importance by coefficient in absolute terms\n",
    "lasso_fdf = pd.DataFrame({'feature': X_features, 'coef': model.coef_, 'abs_coef': abs(model.coef_)})\n",
    "lasso_fdf.sort_values(by = 'abs_coef', ascending = False, inplace = True)\n",
    "\n",
    "non_zero_coef = lasso_fdf[lasso_fdf['coef'] != 0]\n",
    "print(f'Features selected after removing those with 0 coefficient: {len(non_zero_coef)}', '\\n')\n",
    "\n",
    "print('Top 6 features on coefficient:')\n",
    "lasso_fdf.head(6)[['feature', 'coef']]"
   ]
  },
  {
   "cell_type": "code",
   "execution_count": 24,
   "metadata": {},
   "outputs": [
    {
     "name": "stdout",
     "output_type": "stream",
     "text": [
      "Train R-square: 0.825779\n",
      "Test R-square: 0.820082\n",
      "Features selected after removing those with 0 coefficient: 33 \n",
      "\n",
      "Top 6 features on coefficient:\n"
     ]
    },
    {
     "data": {
      "text/html": [
       "<div>\n",
       "<style scoped>\n",
       "    .dataframe tbody tr th:only-of-type {\n",
       "        vertical-align: middle;\n",
       "    }\n",
       "\n",
       "    .dataframe tbody tr th {\n",
       "        vertical-align: top;\n",
       "    }\n",
       "\n",
       "    .dataframe thead th {\n",
       "        text-align: right;\n",
       "    }\n",
       "</style>\n",
       "<table border=\"1\" class=\"dataframe\">\n",
       "  <thead>\n",
       "    <tr style=\"text-align: right;\">\n",
       "      <th></th>\n",
       "      <th>feature</th>\n",
       "      <th>coef</th>\n",
       "    </tr>\n",
       "  </thead>\n",
       "  <tbody>\n",
       "    <tr>\n",
       "      <th>15</th>\n",
       "      <td>OverallQual</td>\n",
       "      <td>0.298975</td>\n",
       "    </tr>\n",
       "    <tr>\n",
       "      <th>44</th>\n",
       "      <td>GrLivArea</td>\n",
       "      <td>0.221464</td>\n",
       "    </tr>\n",
       "    <tr>\n",
       "      <th>59</th>\n",
       "      <td>GarageCars</td>\n",
       "      <td>0.147070</td>\n",
       "    </tr>\n",
       "    <tr>\n",
       "      <th>17</th>\n",
       "      <td>YearBuilt</td>\n",
       "      <td>0.076923</td>\n",
       "    </tr>\n",
       "    <tr>\n",
       "      <th>16</th>\n",
       "      <td>OverallCond</td>\n",
       "      <td>0.070617</td>\n",
       "    </tr>\n",
       "    <tr>\n",
       "      <th>39</th>\n",
       "      <td>CentralAir</td>\n",
       "      <td>0.070615</td>\n",
       "    </tr>\n",
       "  </tbody>\n",
       "</table>\n",
       "</div>"
      ],
      "text/plain": [
       "        feature      coef\n",
       "15  OverallQual  0.298975\n",
       "44    GrLivArea  0.221464\n",
       "59   GarageCars  0.147070\n",
       "17    YearBuilt  0.076923\n",
       "16  OverallCond  0.070617\n",
       "39   CentralAir  0.070615"
      ]
     },
     "execution_count": 24,
     "metadata": {},
     "output_type": "execute_result"
    }
   ],
   "source": [
    "### Double alpha\n",
    "model = Lasso(alpha = alpha_at_max * 2)\n",
    "model.fit(X_train, y_train)\n",
    "print(f'Train R-square: {r2_score(model.predict(X_train), y_train):.6f}')\n",
    "print(f'Test R-square: {r2_score(model.predict(X_test), y_test):.6f}')\n",
    "\n",
    "# Features importance by coefficient in absolute terms\n",
    "lasso_fdf = pd.DataFrame({'feature': X_features, 'coef': model.coef_, 'abs_coef': abs(model.coef_)})\n",
    "lasso_fdf.sort_values(by = 'abs_coef', ascending = False, inplace = True)\n",
    "\n",
    "non_zero_coef = lasso_fdf[lasso_fdf['coef'] != 0]\n",
    "print(f'Features selected after removing those with 0 coefficient: {len(non_zero_coef)}', '\\n')\n",
    "\n",
    "print('Top 6 features on coefficient:')\n",
    "lasso_fdf.head(6)[['feature', 'coef']]"
   ]
  },
  {
   "cell_type": "code",
   "execution_count": 28,
   "metadata": {},
   "outputs": [],
   "source": [
    "# After building the model, you realised that the five most important predictor variables in the lasso model are not available in the incoming data. You will now have to create another model excluding the five most important predictor variables. Which are the five most important predictor variables now?\n",
    "\n",
    "top_5_indices = [15, 44, 59, 17, 16]\n",
    "selected_indices = [i for i in range(X_train.shape[1]) if i not in top_5_indices]\n",
    "X_train_sub = X_train[:, selected_indices]\n",
    "X_test_sub = X_test[:, selected_indices]"
   ]
  },
  {
   "cell_type": "code",
   "execution_count": 30,
   "metadata": {},
   "outputs": [
    {
     "name": "stdout",
     "output_type": "stream",
     "text": [
      "Fitting 5 folds for each of 200 candidates, totalling 1000 fits\n",
      "Alpha at max r2: 0.021437\n"
     ]
    }
   ],
   "source": [
    "### Grid search for alpha\n",
    "model = Lasso()\n",
    "folds = 5       # 5-fold cross-validation\n",
    "params = {'alpha': np.linspace(1e-3, 0.05, num = 200)}\n",
    "model_cv = GridSearchCV(estimator=model,\n",
    "                        param_grid = params,\n",
    "                        scoring = 'r2',\n",
    "                        cv = folds,\n",
    "                        return_train_score = True,\n",
    "                        verbose = 1)\n",
    "model_cv.fit(X_train_sub, y_train)\n",
    "\n",
    "## Rrsults\n",
    "results_df = pd.DataFrame(model_cv.cv_results_)\n",
    "results_df['param_alpha'] = results_df['param_alpha'].astype('float32')\n",
    "max_test_r2 = max(results_df['mean_test_score'])\n",
    "alpha_at_max = results_df.loc[results_df['mean_test_score'] == max_test_r2, 'param_alpha'].values[0]\n",
    "print(f'Alpha at max r2: {alpha_at_max:.6f}')"
   ]
  },
  {
   "cell_type": "code",
   "execution_count": 33,
   "metadata": {},
   "outputs": [
    {
     "name": "stdout",
     "output_type": "stream",
     "text": [
      "Train R-square: 0.794487\n",
      "Test R-square: 0.769454\n",
      "Features selected after removing those with 0 coefficient: 39 \n",
      "\n",
      "Top 6 features on coefficient:\n"
     ]
    },
    {
     "data": {
      "text/html": [
       "<div>\n",
       "<style scoped>\n",
       "    .dataframe tbody tr th:only-of-type {\n",
       "        vertical-align: middle;\n",
       "    }\n",
       "\n",
       "    .dataframe tbody tr th {\n",
       "        vertical-align: top;\n",
       "    }\n",
       "\n",
       "    .dataframe thead th {\n",
       "        text-align: right;\n",
       "    }\n",
       "</style>\n",
       "<table border=\"1\" class=\"dataframe\">\n",
       "  <thead>\n",
       "    <tr style=\"text-align: right;\">\n",
       "      <th></th>\n",
       "      <th>feature</th>\n",
       "      <th>coef</th>\n",
       "    </tr>\n",
       "  </thead>\n",
       "  <tbody>\n",
       "    <tr>\n",
       "      <th>38</th>\n",
       "      <td>1stFlrSF</td>\n",
       "      <td>0.161356</td>\n",
       "    </tr>\n",
       "    <tr>\n",
       "      <th>39</th>\n",
       "      <td>2ndFlrSF</td>\n",
       "      <td>0.147127</td>\n",
       "    </tr>\n",
       "    <tr>\n",
       "      <th>55</th>\n",
       "      <td>GarageArea</td>\n",
       "      <td>0.123250</td>\n",
       "    </tr>\n",
       "    <tr>\n",
       "      <th>43</th>\n",
       "      <td>FullBath</td>\n",
       "      <td>0.105039</td>\n",
       "    </tr>\n",
       "    <tr>\n",
       "      <th>15</th>\n",
       "      <td>YearRemodAdd</td>\n",
       "      <td>0.103954</td>\n",
       "    </tr>\n",
       "    <tr>\n",
       "      <th>50</th>\n",
       "      <td>Fireplaces</td>\n",
       "      <td>0.102047</td>\n",
       "    </tr>\n",
       "  </tbody>\n",
       "</table>\n",
       "</div>"
      ],
      "text/plain": [
       "         feature      coef\n",
       "38      1stFlrSF  0.161356\n",
       "39      2ndFlrSF  0.147127\n",
       "55    GarageArea  0.123250\n",
       "43      FullBath  0.105039\n",
       "15  YearRemodAdd  0.103954\n",
       "50    Fireplaces  0.102047"
      ]
     },
     "execution_count": 33,
     "metadata": {},
     "output_type": "execute_result"
    }
   ],
   "source": [
    "model = Lasso(alpha = alpha_at_max)\n",
    "model.fit(X_train_sub, y_train)\n",
    "print(f'Train R-square: {r2_score(model.predict(X_train_sub), y_train):.6f}')\n",
    "print(f'Test R-square: {r2_score(model.predict(X_test_sub), y_test):.6f}')\n",
    "\n",
    "# Features importance by coefficient in absolute terms\n",
    "X_features_sub = [f for idx, f in enumerate(X_features) if idx not in top_5_indices]\n",
    "lasso_fdf = pd.DataFrame({'feature': X_features_sub, 'coef': model.coef_, 'abs_coef': abs(model.coef_)})\n",
    "lasso_fdf.sort_values(by = 'abs_coef', ascending = False, inplace = True)\n",
    "\n",
    "non_zero_coef = lasso_fdf[lasso_fdf['coef'] != 0]\n",
    "print(f'Features selected after removing those with 0 coefficient: {len(non_zero_coef)}', '\\n')\n",
    "\n",
    "print('Top 6 features on coefficient:')\n",
    "lasso_fdf.head(6)[['feature', 'coef']]"
   ]
  },
  {
   "cell_type": "code",
   "execution_count": null,
   "metadata": {},
   "outputs": [],
   "source": []
  },
  {
   "cell_type": "markdown",
   "metadata": {},
   "source": [
    "Ridge Regression\n",
    "- parameter: Alpha\n"
   ]
  },
  {
   "cell_type": "code",
   "execution_count": null,
   "metadata": {},
   "outputs": [],
   "source": [
    "model = Ridge()\n",
    "folds = 5       # 5-fold cross-validation\n",
    "params = {'alpha': [0.1**i for i in range(5, 0, -1)] \\\n",
    "                    + [i for i in range(10)] \\\n",
    "                    + [i*1 for i in range(1, 100)]\n",
    "                    + [i*10 for i in range(1, 100)]\n",
    "        }\n",
    "model_cv = GridSearchCV(estimator=model,\n",
    "                        param_grid = params,\n",
    "                        scoring = 'r2',\n",
    "                        cv = folds,\n",
    "                        return_train_score = True,\n",
    "                        verbose = 1)\n",
    "model_cv.fit(X, y)"
   ]
  },
  {
   "cell_type": "code",
   "execution_count": null,
   "metadata": {},
   "outputs": [],
   "source": [
    "results_df = pd.DataFrame(model_cv.cv_results_)\n",
    "\n",
    "# plotting mean test and train scoes with alpha\n",
    "results_df['param_alpha'] = results_df['param_alpha'].astype('int32')\n",
    "\n",
    "# plot\n",
    "sns.scatterplot(data = results_df, x = 'param_alpha', y = 'mean_train_score',\n",
    "                marker = 'o', color = 'blue')\n",
    "sns.scatterplot(data = results_df, x = 'param_alpha', y = 'mean_test_score', \n",
    "                marker = 'o', color = 'red')\n",
    "max_test_r2 = max(np.abs(results_df['mean_test_score']))\n",
    "alpha_at_max = results_df.loc[np.abs(results_df['mean_test_score']) == max_test_r2, 'param_alpha'].values[0]\n",
    "plt.axvline(x = alpha_at_max, color = 'black', ls = '--')\n",
    "plt.xlabel('alpha')\n",
    "plt.ylabel('r-square')\n",
    "plt.title(f'Max test_r2 ({max_test_r2:.4f}) when alpha is {alpha_at_max:.4f}')\n",
    "plt.legend(['train score', 'test score'], loc='upper right')\n",
    "plt.show()"
   ]
  },
  {
   "cell_type": "markdown",
   "metadata": {},
   "source": [
    "Train model with best alpha (240) for feature selection"
   ]
  },
  {
   "cell_type": "code",
   "execution_count": null,
   "metadata": {},
   "outputs": [],
   "source": [
    "model = Ridge(alpha = alpha_at_max)\n",
    "model.fit(X_train, y_train)\n",
    "print(f'Train R-square: {r2_score(model.predict(X_train), y_train):.6f}')\n",
    "print(f'Test R-square: {r2_score(model.predict(X_test), y_test):.6f}')\n",
    "\n",
    "# Features importance by coefficient in absolute terms\n",
    "coefs = model.coef_.flatten()\n",
    "ridge_fdf = pd.DataFrame({'feature': X_features, 'coef': coefs, 'abs_coef': abs(coefs)})\n",
    "ridge_fdf.sort_values(by = 'abs_coef', ascending = False, inplace = True)\n",
    "\n",
    "non_zero_coef = ridge_fdf[lasso_fdf['abs_coef'] < 1e-4]\n",
    "print(f'Features selected after removing those with coefficient <1e-4 on absolute terms: {len(non_zero_coef)}', '\\n')\n",
    "\n",
    "print('Top 6 features on coefficient:')\n",
    "ridge_fdf.head(6)[['feature', 'coef']]"
   ]
  },
  {
   "cell_type": "code",
   "execution_count": null,
   "metadata": {},
   "outputs": [],
   "source": [
    "model = Ridge(alpha = alpha_at_max * 2)\n",
    "model.fit(X_train, y_train)\n",
    "print(f'Train R-square: {r2_score(model.predict(X_train), y_train):.6f}')\n",
    "print(f'Test R-square: {r2_score(model.predict(X_test), y_test):.6f}')\n",
    "\n",
    "# Features importance by coefficient in absolute terms\n",
    "coefs = model.coef_.flatten()\n",
    "ridge_fdf = pd.DataFrame({'feature': X_features, 'coef': coefs, 'abs_coef': abs(coefs)})\n",
    "ridge_fdf.sort_values(by = 'abs_coef', ascending = False, inplace = True)\n",
    "\n",
    "non_zero_coef = ridge_fdf[lasso_fdf['abs_coef'] < 1e-4]\n",
    "print(f'Features selected after removing those with coefficient <1e-4 on absolute terms: {len(non_zero_coef)}', '\\n')\n",
    "\n",
    "print('Top 6 features on coefficient:')\n",
    "ridge_fdf.head(6)[['feature', 'coef']]"
   ]
  },
  {
   "cell_type": "code",
   "execution_count": null,
   "metadata": {},
   "outputs": [],
   "source": []
  }
 ],
 "metadata": {
  "kernelspec": {
   "display_name": "base",
   "language": "python",
   "name": "python3"
  },
  "language_info": {
   "codemirror_mode": {
    "name": "ipython",
    "version": 3
   },
   "file_extension": ".py",
   "mimetype": "text/x-python",
   "name": "python",
   "nbconvert_exporter": "python",
   "pygments_lexer": "ipython3",
   "version": "3.10.9"
  }
 },
 "nbformat": 4,
 "nbformat_minor": 2
}
